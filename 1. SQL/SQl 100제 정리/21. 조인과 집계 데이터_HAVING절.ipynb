{
 "cells": [
  {
   "cell_type": "code",
   "execution_count": null,
   "metadata": {
    "ExecuteTime": {
     "start_time": "2021-09-03T12:22:59.143Z"
    }
   },
   "outputs": [],
   "source": [
    "%load_ext sql\n",
    "\n",
    "# put a folder and DB credential files at HOME directory\n",
    "\n",
    "import os\n",
    "homedir = os.getcwd()\n",
    "cred_path = os.path.join(homedir, 'db_cred')\n",
    "\n",
    "\n",
    "\n",
    "# add a 'cred_path' for interpreter to search\n",
    "import sys\n",
    "sys.path.append(cred_path)\n",
    "\n",
    "\n",
    "\n",
    "# import DB credentials from 'gpdb_credentials.py' dictionary file.\n",
    "from gpdb_credentials import dvdrental_db\n",
    "\n",
    "\n",
    "\n",
    "# parsing DB credentials and connect to Greenplum using %sql $connection_string\n",
    "\n",
    "username = dvdrental_db['Username']\n",
    "password = dvdrental_db['Password']\n",
    "host = dvdrental_db['Host']\n",
    "port = dvdrental_db['Port']\n",
    "database = dvdrental_db['Database']\n",
    "\n",
    "connection_string = 'postgresql://{user}:{password}@{host}:{port}/{db}'.format(\n",
    "user=username,\n",
    "password=password,\n",
    "host=host,\n",
    "port=port,\n",
    "db=database)\n",
    "\n",
    "%sql $connection_string"
   ]
  },
  {
   "cell_type": "markdown",
   "metadata": {},
   "source": [
    "# HAVING 절\n",
    "\n",
    "- GROUP BY절에 함께 사용된다.\n",
    "- GROUP BY절의 결과를 특정 조건으로 `필터링` 하는 역할을 한다.\n",
    "\n",
    "<HAVING절 문법 예시>\n",
    "\n",
    "```PYTHON\n",
    "SELECT\n",
    "    COLUMN_1, -- GROUP BY에 들어가는 컬럼 \n",
    "    집계함수(COLUMN_2) \n",
    "FROM\n",
    "    TABLE_NAME\n",
    "GROUP BY \n",
    "    COLUMN_1\n",
    "HAVING 조건;\n",
    "```\n",
    "\n",
    "- HAVING절 VS WHERE절\n",
    "    - HAVING 절은 GROUP BY절에 의해 생성된 그룹내 데이터 에서 조건을 부여해 필터링 한다.\n",
    "    - WHERE절은 GROUP BY 절이 적용되기 전에 개별 행(FROM절에서 불러오는 테이블의 모든 행)에 조건을 부여해 필터링 한다.\n",
    "\n",
    "<참조>\n",
    "> SQL문 실행순서 (FROM > WHERE > GROUP BY > HAVING > SELECT > ORDER BY)"
   ]
  },
  {
   "cell_type": "markdown",
   "metadata": {},
   "source": [
    "# 예제 1. GROUP BY + HAVING \n",
    "\n",
    "> CUSTOMER_ID 기준으로 판매금액(AMOUNT)를 출력하는데 AMOUNT가 200 이상인 데이터만 출력하시오."
   ]
  },
  {
   "cell_type": "code",
   "execution_count": null,
   "metadata": {
    "ExecuteTime": {
     "start_time": "2021-09-03T12:22:59.145Z"
    }
   },
   "outputs": [],
   "source": [
    "%%sql\n",
    "\n",
    "select\n",
    "\tCUSTOMER_ID,\n",
    "\tSUM(AMOUNT) as AMOUNT -- CUSTOMER_ID기준 AMOUNT 합계(SUM)\n",
    "from \n",
    "\tPAYMENT\n",
    "group by\n",
    "\tCUSTOMER_ID\n",
    "having -- GROUP BY절로 출력된 데이터 내에서 조건 부여하여 필터링\n",
    "\tSUM(AMOUNT) > 200;"
   ]
  },
  {
   "cell_type": "markdown",
   "metadata": {},
   "source": [
    "## 예제 1-1.  AMOUNT 200 이상인 고객의 이메일 주소 뽑기\n",
    "\n",
    "> 결제금액(AMOUNT) 200 이상인 고객을 VIP로 선정하고, 이벤트를 진행하고자 한다. 이벤트 정보 발송을 위해 기존 데이터(예제1)에 해당 고객들의 EMAIL정보를 추가하여 출력하시오."
   ]
  },
  {
   "cell_type": "code",
   "execution_count": null,
   "metadata": {
    "ExecuteTime": {
     "start_time": "2021-09-03T12:22:59.147Z"
    }
   },
   "outputs": [],
   "source": [
    "%%sql\n",
    "\n",
    "select\n",
    "\tP.CUSTOMER_ID,\n",
    "\tC.EMAIL,\n",
    "\tSUM(P.AMOUNT) as AMOUNT -- CUSTOMER_ID기준 AMOUNT 합계(SUM)\n",
    "from \n",
    "\tPAYMENT P,\n",
    "\tCUSTOMER C\n",
    "where\n",
    "\tP.CUSTOMER_ID = C.CUSTOMER_ID\n",
    "group by\n",
    "\tP.CUSTOMER_ID,\n",
    "\tC.EMAIL\n",
    "having -- GROUP BY절로 출력된 데이터 내에서 조건 부여하여 필터링\n",
    "\tSUM(P.AMOUNT) > 200;"
   ]
  },
  {
   "cell_type": "markdown",
   "metadata": {},
   "source": [
    "# 예제 3. GROUP BY + HAVING (Cont.)\n",
    "\n",
    "> 고객수가 300명이 넘는 매장의 id와 고객수를 출력하시오."
   ]
  },
  {
   "cell_type": "markdown",
   "metadata": {},
   "source": [
    "> 일단 매장 id를 기준으로 고객수를 집계하는 함수를 작성한다."
   ]
  },
  {
   "cell_type": "code",
   "execution_count": null,
   "metadata": {
    "ExecuteTime": {
     "start_time": "2021-09-03T12:22:59.150Z"
    }
   },
   "outputs": [],
   "source": [
    "%%sql\n",
    "\n",
    "select \n",
    "\tSTORE_ID,\n",
    "\tCOUNT(CUSTOMER_ID) as CX_COUNT -- store기준 customer_id를 count한다.\n",
    "from\n",
    "\tCUSTOMER\n",
    "group by\n",
    "\tSTORE_ID;"
   ]
  },
  {
   "cell_type": "markdown",
   "metadata": {},
   "source": [
    "> 위의 쿼리를 기준으로 having절에  count한 고객의 수가 300명 이상인 데이터만 추출한다."
   ]
  },
  {
   "cell_type": "code",
   "execution_count": null,
   "metadata": {
    "ExecuteTime": {
     "start_time": "2021-09-03T12:22:59.152Z"
    }
   },
   "outputs": [],
   "source": [
    "%%sql\n",
    "\n",
    "select \n",
    "\tC.STORE_ID,\n",
    "\tCOUNT(C.CUSTOMER_ID) as CX_COUNT\n",
    "from\n",
    "\tCUSTOMER C\n",
    "group by\n",
    "\tSTORE_ID\n",
    "having\n",
    "\tCOUNT(C.CUSTOMER_ID) > 300;"
   ]
  }
 ],
 "metadata": {
  "kernelspec": {
   "display_name": "Python 3",
   "language": "python",
   "name": "python3"
  },
  "language_info": {
   "codemirror_mode": {
    "name": "ipython",
    "version": 3
   },
   "file_extension": ".py",
   "mimetype": "text/x-python",
   "name": "python",
   "nbconvert_exporter": "python",
   "pygments_lexer": "ipython3",
   "version": "3.8.5"
  },
  "toc": {
   "base_numbering": 1,
   "nav_menu": {},
   "number_sections": true,
   "sideBar": true,
   "skip_h1_title": false,
   "title_cell": "Table of Contents",
   "title_sidebar": "Contents",
   "toc_cell": false,
   "toc_position": {},
   "toc_section_display": true,
   "toc_window_display": false
  },
  "varInspector": {
   "cols": {
    "lenName": 16,
    "lenType": 16,
    "lenVar": 40
   },
   "kernels_config": {
    "python": {
     "delete_cmd_postfix": "",
     "delete_cmd_prefix": "del ",
     "library": "var_list.py",
     "varRefreshCmd": "print(var_dic_list())"
    },
    "r": {
     "delete_cmd_postfix": ") ",
     "delete_cmd_prefix": "rm(",
     "library": "var_list.r",
     "varRefreshCmd": "cat(var_dic_list()) "
    }
   },
   "types_to_exclude": [
    "module",
    "function",
    "builtin_function_or_method",
    "instance",
    "_Feature"
   ],
   "window_display": false
  }
 },
 "nbformat": 4,
 "nbformat_minor": 4
}
